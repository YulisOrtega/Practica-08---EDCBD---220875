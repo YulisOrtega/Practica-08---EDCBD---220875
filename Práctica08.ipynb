{
 "cells": [
  {
   "cell_type": "markdown",
   "id": "136bd038-b668-4865-8b0c-6dd77c0a61f8",
   "metadata": {},
   "source": [
    "# Práctica 08: Análisis Estadístico Avanzado de Datos usando las librerias: Scipy, itertools y wordcloud"
   ]
  },
  {
   "cell_type": "markdown",
   "id": "392c47cc-2c56-4ae9-8594-2222a2660d67",
   "metadata": {
    "jp-MarkdownHeadingCollapsed": true
   },
   "source": [
    "##### Creado por: Yulissa Ortega Cuevas Matricula: 220875"
   ]
  },
  {
   "cell_type": "markdown",
   "id": "3f9986ae-29c0-40be-b18a-cba935b937c9",
   "metadata": {},
   "source": [
    "##### Asignatura: Extracción de Conocimiento de Bases de Datos"
   ]
  },
  {
   "cell_type": "markdown",
   "id": "ccf4cc1e-ba31-4b8e-ac56-f6e4d7f248f8",
   "metadata": {},
   "source": [
    "##### PE: Ingeniería en Desarrollo y Gestión de Software - 9B"
   ]
  },
  {
   "cell_type": "code",
   "execution_count": 2,
   "id": "eff6ca0c-e7bc-4b3f-ab63-5e765363f5fb",
   "metadata": {},
   "outputs": [],
   "source": [
    "# Carga de paquetes y Librerías a utilizar\n",
    "\n",
    "# Básicos (Standard)\n",
    "\n",
    "import numpy as np # Sirve para poder realizar procesamientos básicos númericos en datos cuantitativos\n",
    "import pandas as pd # Sirve para realizar los procesos ETL es un conjunto de datos\n",
    "import time # Sirve para la manipulación de datos en diferentes formatos de tiempo\n",
    "\n",
    "#Gratificadores (Plats)\n",
    "import matplotlib.pyplot as plt\n",
    "import plotly.express as px\n",
    "import seaborn as sns"
   ]
  },
  {
   "cell_type": "markdown",
   "id": "b03ff711-2895-440e-accd-5b5e39cd320b",
   "metadata": {},
   "source": [
    "### 1. Importar el origen de los datos"
   ]
  },
  {
   "cell_type": "code",
   "execution_count": 3,
   "id": "50383568-5529-44e1-9bee-3816edf76bac",
   "metadata": {},
   "outputs": [
    {
     "name": "stdout",
     "output_type": "stream",
     "text": [
      "C:\\Users\\ti_la\\Downloads\\Practica 08\n",
      " El volumen de la unidad C es OS\n",
      " El número de serie del volumen es: 06DF-BDAA\n",
      "\n",
      " Directorio de C:\\Users\\ti_la\\Downloads\\Practica 08\n",
      "\n",
      "26/06/2025  01:26 p. m.    <DIR>          .\n",
      "26/06/2025  01:22 p. m.    <DIR>          ..\n",
      "26/06/2025  01:24 p. m.    <DIR>          .ipynb_checkpoints\n",
      "26/06/2025  01:26 p. m.            17,225 Práctica08.ipynb\n",
      "10/06/2025  02:23 p. m.         4,127,529 salaries.csv\n",
      "               2 archivos      4,144,754 bytes\n",
      "               3 dirs  34,799,529,984 bytes libres\n"
     ]
    }
   ],
   "source": [
    "!cd \n",
    "!dir"
   ]
  },
  {
   "cell_type": "code",
   "execution_count": 4,
   "id": "2bf52703-af23-4567-99ed-4cb9fe0fb15e",
   "metadata": {},
   "outputs": [
    {
     "name": "stdout",
     "output_type": "stream",
     "text": [
      " El volumen de la unidad C es OS\n",
      " El número de serie del volumen es: 06DF-BDAA\n",
      "\n",
      " Directorio de C:\\Users\\ti_la\\Downloads\\Practica 08\n",
      "\n",
      "26/06/2025  01:26 p. m.    <DIR>          .\n",
      "26/06/2025  01:22 p. m.    <DIR>          ..\n",
      "26/06/2025  01:24 p. m.    <DIR>          .ipynb_checkpoints\n",
      "26/06/2025  01:26 p. m.            17,225 Práctica08.ipynb\n",
      "10/06/2025  02:23 p. m.         4,127,529 salaries.csv\n",
      "               2 archivos      4,144,754 bytes\n",
      "               3 dirs  34,799,579,136 bytes libres\n"
     ]
    }
   ],
   "source": [
    "!dir"
   ]
  },
  {
   "cell_type": "markdown",
   "id": "d5be83b0-94d6-462c-a098-f4da7ef4021f",
   "metadata": {},
   "source": [
    "Importamos los datos en una nueva"
   ]
  },
  {
   "cell_type": "code",
   "execution_count": 5,
   "id": "594dde96-813d-494b-ad69-0caf7aab8aee",
   "metadata": {},
   "outputs": [],
   "source": [
    "df = pd.read_csv('salaries.csv')"
   ]
  },
  {
   "cell_type": "markdown",
   "id": "3dc2161e-8967-42c5-b2c6-c69a19921b64",
   "metadata": {},
   "source": [
    "Corroboramos el tipo de datos de nuestro objeto"
   ]
  },
  {
   "cell_type": "code",
   "execution_count": 6,
   "id": "9e338dc7-d8cb-4d51-a44a-23ce06b33ab7",
   "metadata": {},
   "outputs": [
    {
     "name": "stdout",
     "output_type": "stream",
     "text": [
      "<class 'pandas.core.frame.DataFrame'>\n",
      "RangeIndex: 73154 entries, 0 to 73153\n",
      "Data columns (total 11 columns):\n",
      " #   Column              Non-Null Count  Dtype  \n",
      "---  ------              --------------  -----  \n",
      " 0   work_year           73153 non-null  float64\n",
      " 1   experience_level    73153 non-null  object \n",
      " 2   employment_type     73148 non-null  object \n",
      " 3   job_title           73149 non-null  object \n",
      " 4   salary              73150 non-null  float64\n",
      " 5   salary_currency     73148 non-null  object \n",
      " 6   salary_in_usd       73150 non-null  float64\n",
      " 7   employee_residence  73153 non-null  object \n",
      " 8   remote_ratio        73149 non-null  float64\n",
      " 9   company_location    73154 non-null  object \n",
      " 10  company_size        73148 non-null  object \n",
      "dtypes: float64(4), object(7)\n",
      "memory usage: 6.1+ MB\n"
     ]
    }
   ],
   "source": [
    "df.info()"
   ]
  },
  {
   "cell_type": "markdown",
   "id": "038a0d5b-3500-49ee-939f-2f345e4ddd3b",
   "metadata": {},
   "source": [
    "### 5. Estadística avanzada"
   ]
  },
  {
   "cell_type": "markdown",
   "id": "33b4f718-aea6-4a07-8514-ee42370ae62e",
   "metadata": {},
   "source": [
    "#### Step 1 | Library & Configurations"
   ]
  },
  {
   "cell_type": "code",
   "execution_count": 11,
   "id": "7c3ecec7-a209-4fea-9983-a2a525b5ab71",
   "metadata": {},
   "outputs": [
    {
     "name": "stdout",
     "output_type": "stream",
     "text": [
      "\n",
      "CPU times: total: 62.5 ms\n",
      "Wall time: 88.1 ms\n"
     ]
    }
   ],
   "source": [
    "%%time\n",
    "\n",
    "# Installing select libraries:-\n",
    "from gc import collect; # garbage collection to free up memory\n",
    "from warnings import filterwarnings; # handle warning messages\n",
    "\n",
    "import re # regular expressions\n",
    "\n",
    "import numpy as np # linear algebra\n",
    "import pandas as pd # data processing, CSV file I/O (e.g. pd.read_csv)\n",
    "from scipy import stats # statistical functions\n",
    "\n",
    "from itertools import cycle, combinations  # Igenerating combinations & cycle\n",
    "\n",
    "import matplotlib.pyplot as plt # data visualization\n",
    "from matplotlib.ticker import FuncFormatter  # For custom formatting of ticks\n",
    "from matplotlib.ticker import FormatStrFormatter  # For formatting ticks with a string\n",
    "from mpl_toolkits.mplot3d import Axes3D  # Importing 3D axes module\n",
    "from matplotlib.colors import ListedColormap  # Importing colormap for scatter plot\n",
    "import seaborn as sns # statistical data visualization\n",
    "from wordcloud import WordCloud  # Importing WordCloud library for textual data visualization\n",
    "\n",
    "from io import StringIO\n",
    "\n",
    "filterwarnings('ignore'); # Ignore warning messages\n",
    "from IPython.display import display, HTML, display_html, clear_output; # displaying HTML content\n",
    "\n",
    "\n",
    "clear_output();\n",
    "print();\n",
    "collect();"
   ]
  },
  {
   "cell_type": "code",
   "execution_count": 13,
   "id": "c4527f9d-83f5-4723-aff0-eb6678859b5b",
   "metadata": {},
   "outputs": [
    {
     "name": "stdout",
     "output_type": "stream",
     "text": [
      "Succesfully Configured libraries!\n"
     ]
    }
   ],
   "source": [
    "# Set the plot style to 'fivethirtyeight'\n",
    "plt.style.use(\"fivethirtyeight\")\n",
    "sns.set(rc={\"figure.figsize\":(10, 10)})\n",
    "print(f\"Succesfully Configured libraries!\")"
   ]
  },
  {
   "cell_type": "markdown",
   "id": "e494c9b3-e59d-4708-9dcd-cdb334e50c75",
   "metadata": {},
   "source": [
    "#### Step 2 | Load Dataset"
   ]
  },
  {
   "cell_type": "code",
   "execution_count": 54,
   "id": "8fa22848-8781-4882-ba76-7652136ec863",
   "metadata": {},
   "outputs": [
    {
     "name": "stdout",
     "output_type": "stream",
     "text": [
      "Dataset loaded successfully.\n",
      "\n",
      "CPU times: total: 93.8 ms\n",
      "Wall time: 180 ms\n"
     ]
    }
   ],
   "source": [
    "%%time\n",
    "\n",
    "# Error Handling When Loading Dataset with Pandas read_csv\n",
    "\n",
    "try:\n",
    "    # Attempt to read the dataset\n",
    "    df = pd.read_csv('salaries.csv')\n",
    "    print(f\"Dataset loaded successfully.\")\n",
    "    \n",
    "except FileNotFoundError:\n",
    "    # Handle FileNotFoundError if the file does not exist\n",
    "    print(f\"Error: File not found. Please check the file path.\")\n",
    "\n",
    "except Exception as e:\n",
    "    # Handle other exceptions\n",
    "    print(f\"An error occurred while loading the dataset: {e}\")\n",
    "\n",
    "print()\n",
    "collect();"
   ]
  },
  {
   "cell_type": "markdown",
   "id": "d73008c2-4a84-4f9c-9179-72d93a075ad6",
   "metadata": {},
   "source": [
    "#### Step 3 | Attribute Overview"
   ]
  },
  {
   "cell_type": "code",
   "execution_count": 55,
   "id": "0cdb80b1-ab6a-4028-8ed7-4e639286cfb3",
   "metadata": {},
   "outputs": [],
   "source": [
    "def display_dataframe_with_custom_header(df, show_head=False):\n",
    "    print(f\"{'DataFrame Info:':-^50}\")\n",
    "    print(df.info())\n",
    "    print()\n",
    "    \n",
    "    print(f\"{'DataFrame Shape:':-^50}\")\n",
    "    print(df.shape)\n",
    "    print()\n",
    "    \n",
    "    print(f\"{'DataFrame Columns:':-^50}\")\n",
    "    print(df.columns.tolist())\n",
    "    print()\n",
    "    \n",
    "    if show_head:\n",
    "        print(f\"{'DataFrame Head:':-^50}\")\n",
    "        display(df.head())"
   ]
  },
  {
   "cell_type": "code",
   "execution_count": 56,
   "id": "8e0b4437-5370-4536-bd70-bf8a71bb2ccd",
   "metadata": {},
   "outputs": [
    {
     "name": "stdout",
     "output_type": "stream",
     "text": [
      "-----------------DataFrame Info:------------------\n",
      "<class 'pandas.core.frame.DataFrame'>\n",
      "RangeIndex: 73154 entries, 0 to 73153\n",
      "Data columns (total 11 columns):\n",
      " #   Column              Non-Null Count  Dtype  \n",
      "---  ------              --------------  -----  \n",
      " 0   work_year           73153 non-null  float64\n",
      " 1   experience_level    73153 non-null  object \n",
      " 2   employment_type     73148 non-null  object \n",
      " 3   job_title           73149 non-null  object \n",
      " 4   salary              73150 non-null  float64\n",
      " 5   salary_currency     73148 non-null  object \n",
      " 6   salary_in_usd       73150 non-null  float64\n",
      " 7   employee_residence  73153 non-null  object \n",
      " 8   remote_ratio        73149 non-null  float64\n",
      " 9   company_location    73154 non-null  object \n",
      " 10  company_size        73148 non-null  object \n",
      "dtypes: float64(4), object(7)\n",
      "memory usage: 6.1+ MB\n",
      "None\n",
      "\n",
      "-----------------DataFrame Shape:-----------------\n",
      "(73154, 11)\n",
      "\n",
      "----------------DataFrame Columns:----------------\n",
      "['work_year', 'experience_level', 'employment_type', 'job_title', 'salary', 'salary_currency', 'salary_in_usd', 'employee_residence', 'remote_ratio', 'company_location', 'company_size']\n",
      "\n",
      "-----------------DataFrame Info:------------------\n",
      "<class 'pandas.core.frame.DataFrame'>\n",
      "RangeIndex: 73154 entries, 0 to 73153\n",
      "Data columns (total 11 columns):\n",
      " #   Column              Non-Null Count  Dtype  \n",
      "---  ------              --------------  -----  \n",
      " 0   work_year           73153 non-null  float64\n",
      " 1   experience_level    73153 non-null  object \n",
      " 2   employment_type     73148 non-null  object \n",
      " 3   job_title           73149 non-null  object \n",
      " 4   salary              73150 non-null  float64\n",
      " 5   salary_currency     73148 non-null  object \n",
      " 6   salary_in_usd       73150 non-null  float64\n",
      " 7   employee_residence  73153 non-null  object \n",
      " 8   remote_ratio        73149 non-null  float64\n",
      " 9   company_location    73154 non-null  object \n",
      " 10  company_size        73148 non-null  object \n",
      "dtypes: float64(4), object(7)\n",
      "memory usage: 6.1+ MB\n",
      "None\n",
      "\n",
      "-----------------DataFrame Shape:-----------------\n",
      "(73154, 11)\n",
      "\n",
      "----------------DataFrame Columns:----------------\n",
      "['work_year', 'experience_level', 'employment_type', 'job_title', 'salary', 'salary_currency', 'salary_in_usd', 'employee_residence', 'remote_ratio', 'company_location', 'company_size']\n",
      "\n",
      "-----------------DataFrame Head:------------------\n"
     ]
    },
    {
     "data": {
      "text/html": [
       "<div>\n",
       "<style scoped>\n",
       "    .dataframe tbody tr th:only-of-type {\n",
       "        vertical-align: middle;\n",
       "    }\n",
       "\n",
       "    .dataframe tbody tr th {\n",
       "        vertical-align: top;\n",
       "    }\n",
       "\n",
       "    .dataframe thead th {\n",
       "        text-align: right;\n",
       "    }\n",
       "</style>\n",
       "<table border=\"1\" class=\"dataframe\">\n",
       "  <thead>\n",
       "    <tr style=\"text-align: right;\">\n",
       "      <th></th>\n",
       "      <th>work_year</th>\n",
       "      <th>experience_level</th>\n",
       "      <th>employment_type</th>\n",
       "      <th>job_title</th>\n",
       "      <th>salary</th>\n",
       "      <th>salary_currency</th>\n",
       "      <th>salary_in_usd</th>\n",
       "      <th>employee_residence</th>\n",
       "      <th>remote_ratio</th>\n",
       "      <th>company_location</th>\n",
       "      <th>company_size</th>\n",
       "    </tr>\n",
       "  </thead>\n",
       "  <tbody>\n",
       "    <tr>\n",
       "      <th>0</th>\n",
       "      <td>2025.0</td>\n",
       "      <td>SE</td>\n",
       "      <td>FT</td>\n",
       "      <td>Data Product Owner</td>\n",
       "      <td>170000.0</td>\n",
       "      <td>USD</td>\n",
       "      <td>170000.0</td>\n",
       "      <td>US</td>\n",
       "      <td>0.0</td>\n",
       "      <td>US</td>\n",
       "      <td>M</td>\n",
       "    </tr>\n",
       "    <tr>\n",
       "      <th>1</th>\n",
       "      <td>2025.0</td>\n",
       "      <td>SE</td>\n",
       "      <td>FT</td>\n",
       "      <td>Data Product Owner</td>\n",
       "      <td>170000.0</td>\n",
       "      <td>USD</td>\n",
       "      <td>110000.0</td>\n",
       "      <td>US</td>\n",
       "      <td>0.0</td>\n",
       "      <td>US</td>\n",
       "      <td>M</td>\n",
       "    </tr>\n",
       "    <tr>\n",
       "      <th>2</th>\n",
       "      <td>2025.0</td>\n",
       "      <td>SE</td>\n",
       "      <td>FT</td>\n",
       "      <td>Data Product Owner</td>\n",
       "      <td>170000.0</td>\n",
       "      <td>USD</td>\n",
       "      <td>170000.0</td>\n",
       "      <td>US</td>\n",
       "      <td>0.0</td>\n",
       "      <td>US</td>\n",
       "      <td>M</td>\n",
       "    </tr>\n",
       "    <tr>\n",
       "      <th>3</th>\n",
       "      <td>2025.0</td>\n",
       "      <td>SE</td>\n",
       "      <td>FT</td>\n",
       "      <td>Data Product Owner</td>\n",
       "      <td>110000.0</td>\n",
       "      <td>USD</td>\n",
       "      <td>110000.0</td>\n",
       "      <td>US</td>\n",
       "      <td>0.0</td>\n",
       "      <td>US</td>\n",
       "      <td>M</td>\n",
       "    </tr>\n",
       "    <tr>\n",
       "      <th>4</th>\n",
       "      <td>2025.0</td>\n",
       "      <td>SE</td>\n",
       "      <td>FT</td>\n",
       "      <td>Engineer</td>\n",
       "      <td>143000.0</td>\n",
       "      <td>USD</td>\n",
       "      <td>143000.0</td>\n",
       "      <td>US</td>\n",
       "      <td>0.0</td>\n",
       "      <td>US</td>\n",
       "      <td>M</td>\n",
       "    </tr>\n",
       "  </tbody>\n",
       "</table>\n",
       "</div>"
      ],
      "text/plain": [
       "   work_year experience_level employment_type           job_title    salary  \\\n",
       "0     2025.0               SE              FT  Data Product Owner  170000.0   \n",
       "1     2025.0               SE              FT  Data Product Owner  170000.0   \n",
       "2     2025.0               SE              FT  Data Product Owner  170000.0   \n",
       "3     2025.0               SE              FT  Data Product Owner  110000.0   \n",
       "4     2025.0               SE              FT            Engineer  143000.0   \n",
       "\n",
       "  salary_currency  salary_in_usd employee_residence  remote_ratio  \\\n",
       "0             USD       170000.0                 US           0.0   \n",
       "1             USD       110000.0                 US           0.0   \n",
       "2             USD       170000.0                 US           0.0   \n",
       "3             USD       110000.0                 US           0.0   \n",
       "4             USD       143000.0                 US           0.0   \n",
       "\n",
       "  company_location company_size  \n",
       "0               US            M  \n",
       "1               US            M  \n",
       "2               US            M  \n",
       "3               US            M  \n",
       "4               US            M  "
      ]
     },
     "metadata": {},
     "output_type": "display_data"
    }
   ],
   "source": [
    "display_dataframe_with_custom_header(df)  # Display info\n",
    "display_dataframe_with_custom_header(df, show_head=True)  # Display head"
   ]
  },
  {
   "cell_type": "markdown",
   "id": "c605b580-955f-4349-a646-ac71e4e70e19",
   "metadata": {},
   "source": [
    "#### Step 4 | Missing Value Handling"
   ]
  },
  {
   "cell_type": "code",
   "execution_count": 65,
   "id": "d43bd43c-8fdf-494a-bd35-0e6109d742cf",
   "metadata": {},
   "outputs": [],
   "source": [
    "import matplotlib.pyplot as plt\n",
    "import seaborn as sns\n",
    "\n",
    "def plot_missing_values_heatmap(df):\n",
    "    null_counts = df.isnull().sum()\n",
    "    total = len(df)\n",
    "    \n",
    "    # Si no hay valores nulos, seguimos mostrando la gráfica con barras \"vacías\"\n",
    "    plt.figure(figsize=(12, 6))\n",
    "    bar_colors = sns.color_palette(\"copper\", len(null_counts))\n",
    "    sns.barplot(x=null_counts.index, y=null_counts.values, palette=bar_colors)\n",
    "\n",
    "    plt.title(\"Count of Missing Values\", fontsize=14, color=\"orangered\")\n",
    "\n",
    "    for i, value in enumerate(null_counts.values):\n",
    "        plt.text(i, value + 0.05, str(value), ha='center', va='bottom', \n",
    "                 color='white', fontweight='bold')\n",
    "\n",
    "    plt.xticks(rotation=45, ha='right')\n",
    "    plt.grid(False)\n",
    "    plt.tight_layout()\n",
    "    plt.show()"
   ]
  },
  {
   "cell_type": "code",
   "execution_count": 66,
   "id": "a8bb4c88-b39e-4b34-a97d-97f494decbfc",
   "metadata": {},
   "outputs": [
    {
     "data": {
      "image/png": "[encoded data removed]",
      "text/plain": [
       "<Figure size 1200x600 with 1 Axes>"
      ]
     },
     "metadata": {},
     "output_type": "display_data"
    }
   ],
   "source": [
    "# Call the function to plot the heatmap\n",
    "plot_missing_values_heatmap(df)"
   ]
  },
  {
   "cell_type": "markdown",
   "id": "f0889651-42c5-4822-9387-1c4dfc12ad1f",
   "metadata": {},
   "source": [
    "#### Step 5 | Duplicate Value Manage"
   ]
  },
  {
   "cell_type": "code",
   "execution_count": 59,
   "id": "96a51623-ff84-4a86-9364-03c8c75b18f3",
   "metadata": {},
   "outputs": [
    {
     "name": "stdout",
     "output_type": "stream",
     "text": [
      "The data contains 39125 duplicate values\n"
     ]
    }
   ],
   "source": [
    "# Checking the duplicate values in the data\n",
    "duplicate_values = df.duplicated().sum()\n",
    "print(f'The data contains {duplicate_values} duplicate values')\n",
    "\n",
    "# Remove duplicate rows\n",
    "df_no_duplicates = df.drop_duplicates()"
   ]
  },
  {
   "cell_type": "code",
   "execution_count": 60,
   "id": "2dfb531c-d670-47db-9f91-cf282632d208",
   "metadata": {},
   "outputs": [],
   "source": [
    "def apply_duplicated_styling(df):\n",
    "    duplicated_cols = df.T.duplicated()\n",
    "    return pd.DataFrame(duplicated_cols, index=df.columns).style.applymap(\n",
    "        lambda v: 'color: blue; font-weight: bold' if v else 'color: green'\n",
    "    )"
   ]
  },
  {
   "cell_type": "code",
   "execution_count": 61,
   "id": "c107a166-b48c-4444-a14d-3ff92e338eff",
   "metadata": {},
   "outputs": [
    {
     "data": {
      "text/html": [
       "<style type=\"text/css\">\n",
       "#T_7e646_row0_col0, #T_7e646_row1_col0, #T_7e646_row2_col0, #T_7e646_row3_col0, #T_7e646_row4_col0, #T_7e646_row5_col0, #T_7e646_row6_col0, #T_7e646_row7_col0, #T_7e646_row8_col0, #T_7e646_row9_col0, #T_7e646_row10_col0 {\n",
       "  color: green;\n",
       "}\n",
       "</style>\n",
       "<table id=\"T_7e646\">\n",
       "  <thead>\n",
       "    <tr>\n",
       "      <th class=\"blank level0\" >&nbsp;</th>\n",
       "      <th id=\"T_7e646_level0_col0\" class=\"col_heading level0 col0\" >0</th>\n",
       "    </tr>\n",
       "  </thead>\n",
       "  <tbody>\n",
       "    <tr>\n",
       "      <th id=\"T_7e646_level0_row0\" class=\"row_heading level0 row0\" >work_year</th>\n",
       "      <td id=\"T_7e646_row0_col0\" class=\"data row0 col0\" >False</td>\n",
       "    </tr>\n",
       "    <tr>\n",
       "      <th id=\"T_7e646_level0_row1\" class=\"row_heading level0 row1\" >experience_level</th>\n",
       "      <td id=\"T_7e646_row1_col0\" class=\"data row1 col0\" >False</td>\n",
       "    </tr>\n",
       "    <tr>\n",
       "      <th id=\"T_7e646_level0_row2\" class=\"row_heading level0 row2\" >employment_type</th>\n",
       "      <td id=\"T_7e646_row2_col0\" class=\"data row2 col0\" >False</td>\n",
       "    </tr>\n",
       "    <tr>\n",
       "      <th id=\"T_7e646_level0_row3\" class=\"row_heading level0 row3\" >job_title</th>\n",
       "      <td id=\"T_7e646_row3_col0\" class=\"data row3 col0\" >False</td>\n",
       "    </tr>\n",
       "    <tr>\n",
       "      <th id=\"T_7e646_level0_row4\" class=\"row_heading level0 row4\" >salary</th>\n",
       "      <td id=\"T_7e646_row4_col0\" class=\"data row4 col0\" >False</td>\n",
       "    </tr>\n",
       "    <tr>\n",
       "      <th id=\"T_7e646_level0_row5\" class=\"row_heading level0 row5\" >salary_currency</th>\n",
       "      <td id=\"T_7e646_row5_col0\" class=\"data row5 col0\" >False</td>\n",
       "    </tr>\n",
       "    <tr>\n",
       "      <th id=\"T_7e646_level0_row6\" class=\"row_heading level0 row6\" >salary_in_usd</th>\n",
       "      <td id=\"T_7e646_row6_col0\" class=\"data row6 col0\" >False</td>\n",
       "    </tr>\n",
       "    <tr>\n",
       "      <th id=\"T_7e646_level0_row7\" class=\"row_heading level0 row7\" >employee_residence</th>\n",
       "      <td id=\"T_7e646_row7_col0\" class=\"data row7 col0\" >False</td>\n",
       "    </tr>\n",
       "    <tr>\n",
       "      <th id=\"T_7e646_level0_row8\" class=\"row_heading level0 row8\" >remote_ratio</th>\n",
       "      <td id=\"T_7e646_row8_col0\" class=\"data row8 col0\" >False</td>\n",
       "    </tr>\n",
       "    <tr>\n",
       "      <th id=\"T_7e646_level0_row9\" class=\"row_heading level0 row9\" >company_location</th>\n",
       "      <td id=\"T_7e646_row9_col0\" class=\"data row9 col0\" >False</td>\n",
       "    </tr>\n",
       "    <tr>\n",
       "      <th id=\"T_7e646_level0_row10\" class=\"row_heading level0 row10\" >company_size</th>\n",
       "      <td id=\"T_7e646_row10_col0\" class=\"data row10 col0\" >False</td>\n",
       "    </tr>\n",
       "  </tbody>\n",
       "</table>\n"
      ],
      "text/plain": [
       "<pandas.io.formats.style.Styler at 0x20896e27f20>"
      ]
     },
     "execution_count": 61,
     "metadata": {},
     "output_type": "execute_result"
    }
   ],
   "source": [
    "# checks for duplicates among the columns of the DataFrame.\n",
    "styled_df = apply_duplicated_styling(df)\n",
    "styled_df"
   ]
  },
  {
   "cell_type": "markdown",
   "id": "e82e9429-1778-4f33-b7fb-e9c3c8b5d822",
   "metadata": {},
   "source": [
    "#### Step 6 | Statistical Data Summary"
   ]
  },
  {
   "cell_type": "markdown",
   "id": "e0960cd7-6270-47c7-8ccb-2564cab552f3",
   "metadata": {},
   "source": [
    "##### Calcular las medidas de tendencia central de nuestro dataframe"
   ]
  },
  {
   "cell_type": "code",
   "execution_count": 63,
   "id": "914e9b43-5651-4799-a7b9-078571e5cf4c",
   "metadata": {},
   "outputs": [],
   "source": [
    "def calculate_statistics(df, opacity=0.5, font_size='14px'):\n",
    "    import scipy.stats as stats\n",
    "    from IPython.display import HTML\n",
    "\n",
    "    # Solo incluir columnas numéricas\n",
    "    numeric_df = df.select_dtypes(include=['float64', 'int64'])\n",
    "\n",
    "    stats_dict = {\n",
    "        'Mean': numeric_df.mean(),\n",
    "        'Median': numeric_df.median(),\n",
    "        'Mode': numeric_df.mode().iloc[0],\n",
    "        'Range': numeric_df.max() - numeric_df.min(),\n",
    "        'Stdev': numeric_df.std(),\n",
    "        'Variance': numeric_df.var(),\n",
    "        'IQR': numeric_df.quantile(0.75) - numeric_df.quantile(0.25),\n",
    "        '25%': numeric_df.quantile(0.25),\n",
    "        '50%': numeric_df.quantile(0.5),\n",
    "        '75%': numeric_df.quantile(0.75),\n",
    "        'Min': numeric_df.min(),\n",
    "        'Max': numeric_df.max(),\n",
    "        'Skewness': numeric_df.skew(),\n",
    "        'Kurtosis': numeric_df.kurtosis()\n",
    "    }\n",
    "\n",
    "    stats_df = pd.DataFrame(stats_dict).T\n",
    "\n",
    "    styled_df = stats_df.style.set_table_attributes(\n",
    "        f\"style='display:inline;border-collapse:collapse;background-color:rgba(0,150,255,{opacity});font-size:{font_size};'\"\n",
    "    ).format(\"{:,.2f}\")\n",
    "\n",
    "    return styled_df\n"
   ]
  },
  {
   "cell_type": "code",
   "execution_count": 64,
   "id": "1c431c43-e773-4df8-9361-23c32b6b83c6",
   "metadata": {},
   "outputs": [
    {
     "data": {
      "text/html": [
       "<style type=\"text/css\">\n",
       "</style>\n",
       "<table id=\"T_a41ac\" style=\"opacity:1.0; font-size:14px;\">\n",
       "  <thead>\n",
       "    <tr>\n",
       "      <th class=\"blank level0\" >&nbsp;</th>\n",
       "      <th id=\"T_a41ac_level0_col0\" class=\"col_heading level0 col0\" >work_year</th>\n",
       "      <th id=\"T_a41ac_level0_col1\" class=\"col_heading level0 col1\" >salary</th>\n",
       "      <th id=\"T_a41ac_level0_col2\" class=\"col_heading level0 col2\" >salary_in_usd</th>\n",
       "      <th id=\"T_a41ac_level0_col3\" class=\"col_heading level0 col3\" >remote_ratio</th>\n",
       "    </tr>\n",
       "  </thead>\n",
       "  <tbody>\n",
       "    <tr>\n",
       "      <th id=\"T_a41ac_level0_row0\" class=\"row_heading level0 row0\" >Mean</th>\n",
       "      <td id=\"T_a41ac_row0_col0\" class=\"data row0 col0\" >2023.830000</td>\n",
       "      <td id=\"T_a41ac_row0_col1\" class=\"data row0 col1\" >162835.530000</td>\n",
       "      <td id=\"T_a41ac_row0_col2\" class=\"data row0 col2\" >158011.200000</td>\n",
       "      <td id=\"T_a41ac_row0_col3\" class=\"data row0 col3\" >21.580000</td>\n",
       "    </tr>\n",
       "    <tr>\n",
       "      <th id=\"T_a41ac_level0_row1\" class=\"row_heading level0 row1\" >Median</th>\n",
       "      <td id=\"T_a41ac_row1_col0\" class=\"data row1 col0\" >2024.000000</td>\n",
       "      <td id=\"T_a41ac_row1_col1\" class=\"data row1 col1\" >148000.000000</td>\n",
       "      <td id=\"T_a41ac_row1_col2\" class=\"data row1 col2\" >147500.000000</td>\n",
       "      <td id=\"T_a41ac_row1_col3\" class=\"data row1 col3\" >0.000000</td>\n",
       "    </tr>\n",
       "    <tr>\n",
       "      <th id=\"T_a41ac_level0_row2\" class=\"row_heading level0 row2\" >Mode</th>\n",
       "      <td id=\"T_a41ac_row2_col0\" class=\"data row2 col0\" >2024.000000</td>\n",
       "      <td id=\"T_a41ac_row2_col1\" class=\"data row2 col1\" >160000.000000</td>\n",
       "      <td id=\"T_a41ac_row2_col2\" class=\"data row2 col2\" >160000.000000</td>\n",
       "      <td id=\"T_a41ac_row2_col3\" class=\"data row2 col3\" >0.000000</td>\n",
       "    </tr>\n",
       "    <tr>\n",
       "      <th id=\"T_a41ac_level0_row3\" class=\"row_heading level0 row3\" >Range</th>\n",
       "      <td id=\"T_a41ac_row3_col0\" class=\"data row3 col0\" >5.000000</td>\n",
       "      <td id=\"T_a41ac_row3_col1\" class=\"data row3 col1\" >30386000.000000</td>\n",
       "      <td id=\"T_a41ac_row3_col2\" class=\"data row3 col2\" >785000.000000</td>\n",
       "      <td id=\"T_a41ac_row3_col3\" class=\"data row3 col3\" >100.000000</td>\n",
       "    </tr>\n",
       "    <tr>\n",
       "      <th id=\"T_a41ac_level0_row4\" class=\"row_heading level0 row4\" >Stdev</th>\n",
       "      <td id=\"T_a41ac_row4_col0\" class=\"data row4 col0\" >0.480000</td>\n",
       "      <td id=\"T_a41ac_row4_col1\" class=\"data row4 col1\" >197488.540000</td>\n",
       "      <td id=\"T_a41ac_row4_col2\" class=\"data row4 col2\" >72501.930000</td>\n",
       "      <td id=\"T_a41ac_row4_col3\" class=\"data row4 col3\" >41.020000</td>\n",
       "    </tr>\n",
       "    <tr>\n",
       "      <th id=\"T_a41ac_level0_row5\" class=\"row_heading level0 row5\" >Variance</th>\n",
       "      <td id=\"T_a41ac_row5_col0\" class=\"data row5 col0\" >0.230000</td>\n",
       "      <td id=\"T_a41ac_row5_col1\" class=\"data row5 col1\" >39001722204.389999</td>\n",
       "      <td id=\"T_a41ac_row5_col2\" class=\"data row5 col2\" >5256529815.310000</td>\n",
       "      <td id=\"T_a41ac_row5_col3\" class=\"data row5 col3\" >1682.880000</td>\n",
       "    </tr>\n",
       "    <tr>\n",
       "      <th id=\"T_a41ac_level0_row6\" class=\"row_heading level0 row6\" >IQR</th>\n",
       "      <td id=\"T_a41ac_row6_col0\" class=\"data row6 col0\" >0.000000</td>\n",
       "      <td id=\"T_a41ac_row6_col1\" class=\"data row6 col1\" >93040.000000</td>\n",
       "      <td id=\"T_a41ac_row6_col2\" class=\"data row6 col2\" >92810.000000</td>\n",
       "      <td id=\"T_a41ac_row6_col3\" class=\"data row6 col3\" >0.000000</td>\n",
       "    </tr>\n",
       "    <tr>\n",
       "      <th id=\"T_a41ac_level0_row7\" class=\"row_heading level0 row7\" >25%</th>\n",
       "      <td id=\"T_a41ac_row7_col0\" class=\"data row7 col0\" >2024.000000</td>\n",
       "      <td id=\"T_a41ac_row7_col1\" class=\"data row7 col1\" >106960.000000</td>\n",
       "      <td id=\"T_a41ac_row7_col2\" class=\"data row7 col2\" >106890.000000</td>\n",
       "      <td id=\"T_a41ac_row7_col3\" class=\"data row7 col3\" >0.000000</td>\n",
       "    </tr>\n",
       "    <tr>\n",
       "      <th id=\"T_a41ac_level0_row8\" class=\"row_heading level0 row8\" >50%</th>\n",
       "      <td id=\"T_a41ac_row8_col0\" class=\"data row8 col0\" >2024.000000</td>\n",
       "      <td id=\"T_a41ac_row8_col1\" class=\"data row8 col1\" >148000.000000</td>\n",
       "      <td id=\"T_a41ac_row8_col2\" class=\"data row8 col2\" >147500.000000</td>\n",
       "      <td id=\"T_a41ac_row8_col3\" class=\"data row8 col3\" >0.000000</td>\n",
       "    </tr>\n",
       "    <tr>\n",
       "      <th id=\"T_a41ac_level0_row9\" class=\"row_heading level0 row9\" >75%</th>\n",
       "      <td id=\"T_a41ac_row9_col0\" class=\"data row9 col0\" >2024.000000</td>\n",
       "      <td id=\"T_a41ac_row9_col1\" class=\"data row9 col1\" >200000.000000</td>\n",
       "      <td id=\"T_a41ac_row9_col2\" class=\"data row9 col2\" >199700.000000</td>\n",
       "      <td id=\"T_a41ac_row9_col3\" class=\"data row9 col3\" >0.000000</td>\n",
       "    </tr>\n",
       "    <tr>\n",
       "      <th id=\"T_a41ac_level0_row10\" class=\"row_heading level0 row10\" >Min</th>\n",
       "      <td id=\"T_a41ac_row10_col0\" class=\"data row10 col0\" >2020.000000</td>\n",
       "      <td id=\"T_a41ac_row10_col1\" class=\"data row10 col1\" >14000.000000</td>\n",
       "      <td id=\"T_a41ac_row10_col2\" class=\"data row10 col2\" >15000.000000</td>\n",
       "      <td id=\"T_a41ac_row10_col3\" class=\"data row10 col3\" >0.000000</td>\n",
       "    </tr>\n",
       "    <tr>\n",
       "      <th id=\"T_a41ac_level0_row11\" class=\"row_heading level0 row11\" >Max</th>\n",
       "      <td id=\"T_a41ac_row11_col0\" class=\"data row11 col0\" >2025.000000</td>\n",
       "      <td id=\"T_a41ac_row11_col1\" class=\"data row11 col1\" >30400000.000000</td>\n",
       "      <td id=\"T_a41ac_row11_col2\" class=\"data row11 col2\" >800000.000000</td>\n",
       "      <td id=\"T_a41ac_row11_col3\" class=\"data row11 col3\" >100.000000</td>\n",
       "    </tr>\n",
       "    <tr>\n",
       "      <th id=\"T_a41ac_level0_row12\" class=\"row_heading level0 row12\" >Skewness</th>\n",
       "      <td id=\"T_a41ac_row12_col0\" class=\"data row12 col0\" >-2.920000</td>\n",
       "      <td id=\"T_a41ac_row12_col1\" class=\"data row12 col1\" >67.080000</td>\n",
       "      <td id=\"T_a41ac_row12_col2\" class=\"data row12 col2\" >1.220000</td>\n",
       "      <td id=\"T_a41ac_row12_col3\" class=\"data row12 col3\" >1.380000</td>\n",
       "    </tr>\n",
       "    <tr>\n",
       "      <th id=\"T_a41ac_level0_row13\" class=\"row_heading level0 row13\" >Kurtosis</th>\n",
       "      <td id=\"T_a41ac_row13_col0\" class=\"data row13 col0\" >11.150000</td>\n",
       "      <td id=\"T_a41ac_row13_col1\" class=\"data row13 col1\" >8241.650000</td>\n",
       "      <td id=\"T_a41ac_row13_col2\" class=\"data row13 col2\" >3.980000</td>\n",
       "      <td id=\"T_a41ac_row13_col3\" class=\"data row13 col3\" >-0.080000</td>\n",
       "    </tr>\n",
       "  </tbody>\n",
       "</table>\n"
      ],
      "text/plain": [
       "<pandas.io.formats.style.Styler at 0x20898d4f6b0>"
      ]
     },
     "execution_count": 64,
     "metadata": {},
     "output_type": "execute_result"
    }
   ],
   "source": [
    "stats_df = calcular_estadisticas(df)\n",
    "stats_df"
   ]
  },
  {
   "cell_type": "code",
   "execution_count": 68,
   "id": "a1e72b87-d449-4522-831e-08f0dc85a0aa",
   "metadata": {},
   "outputs": [],
   "source": [
    "def variable_summary(df):\n",
    "    summary = pd.DataFrame({\n",
    "        'Variable': df.columns,\n",
    "        'Dtype': df.dtypes.values,\n",
    "        'Count': df.count().values,\n",
    "        'Unique': df.nunique().values,\n",
    "        'Missing': df.isnull().sum().values\n",
    "    })\n",
    "    return summary"
   ]
  },
  {
   "cell_type": "code",
   "execution_count": 69,
   "id": "11fd4763-0adf-44e9-abe7-9cef7710945e",
   "metadata": {},
   "outputs": [
    {
     "data": {
      "text/html": [
       "<div>\n",
       "<style scoped>\n",
       "    .dataframe tbody tr th:only-of-type {\n",
       "        vertical-align: middle;\n",
       "    }\n",
       "\n",
       "    .dataframe tbody tr th {\n",
       "        vertical-align: top;\n",
       "    }\n",
       "\n",
       "    .dataframe thead th {\n",
       "        text-align: right;\n",
       "    }\n",
       "</style>\n",
       "<table border=\"1\" class=\"dataframe\">\n",
       "  <thead>\n",
       "    <tr style=\"text-align: right;\">\n",
       "      <th></th>\n",
       "      <th>Variable</th>\n",
       "      <th>Dtype</th>\n",
       "      <th>Count</th>\n",
       "      <th>Unique</th>\n",
       "      <th>Missing</th>\n",
       "    </tr>\n",
       "  </thead>\n",
       "  <tbody>\n",
       "    <tr>\n",
       "      <th>0</th>\n",
       "      <td>work_year</td>\n",
       "      <td>float64</td>\n",
       "      <td>73153</td>\n",
       "      <td>6</td>\n",
       "      <td>1</td>\n",
       "    </tr>\n",
       "    <tr>\n",
       "      <th>1</th>\n",
       "      <td>experience_level</td>\n",
       "      <td>object</td>\n",
       "      <td>73153</td>\n",
       "      <td>5</td>\n",
       "      <td>1</td>\n",
       "    </tr>\n",
       "    <tr>\n",
       "      <th>2</th>\n",
       "      <td>employment_type</td>\n",
       "      <td>object</td>\n",
       "      <td>73148</td>\n",
       "      <td>4</td>\n",
       "      <td>6</td>\n",
       "    </tr>\n",
       "    <tr>\n",
       "      <th>3</th>\n",
       "      <td>job_title</td>\n",
       "      <td>object</td>\n",
       "      <td>73149</td>\n",
       "      <td>289</td>\n",
       "      <td>5</td>\n",
       "    </tr>\n",
       "    <tr>\n",
       "      <th>4</th>\n",
       "      <td>salary</td>\n",
       "      <td>float64</td>\n",
       "      <td>73150</td>\n",
       "      <td>7095</td>\n",
       "      <td>4</td>\n",
       "    </tr>\n",
       "    <tr>\n",
       "      <th>5</th>\n",
       "      <td>salary_currency</td>\n",
       "      <td>object</td>\n",
       "      <td>73148</td>\n",
       "      <td>25</td>\n",
       "      <td>6</td>\n",
       "    </tr>\n",
       "    <tr>\n",
       "      <th>6</th>\n",
       "      <td>salary_in_usd</td>\n",
       "      <td>float64</td>\n",
       "      <td>73150</td>\n",
       "      <td>7703</td>\n",
       "      <td>4</td>\n",
       "    </tr>\n",
       "    <tr>\n",
       "      <th>7</th>\n",
       "      <td>employee_residence</td>\n",
       "      <td>object</td>\n",
       "      <td>73153</td>\n",
       "      <td>93</td>\n",
       "      <td>1</td>\n",
       "    </tr>\n",
       "    <tr>\n",
       "      <th>8</th>\n",
       "      <td>remote_ratio</td>\n",
       "      <td>float64</td>\n",
       "      <td>73149</td>\n",
       "      <td>4</td>\n",
       "      <td>5</td>\n",
       "    </tr>\n",
       "    <tr>\n",
       "      <th>9</th>\n",
       "      <td>company_location</td>\n",
       "      <td>object</td>\n",
       "      <td>73154</td>\n",
       "      <td>86</td>\n",
       "      <td>0</td>\n",
       "    </tr>\n",
       "    <tr>\n",
       "      <th>10</th>\n",
       "      <td>company_size</td>\n",
       "      <td>object</td>\n",
       "      <td>73148</td>\n",
       "      <td>3</td>\n",
       "      <td>6</td>\n",
       "    </tr>\n",
       "  </tbody>\n",
       "</table>\n",
       "</div>"
      ],
      "text/plain": [
       "              Variable    Dtype  Count  Unique  Missing\n",
       "0            work_year  float64  73153       6        1\n",
       "1     experience_level   object  73153       5        1\n",
       "2      employment_type   object  73148       4        6\n",
       "3            job_title   object  73149     289        5\n",
       "4               salary  float64  73150    7095        4\n",
       "5      salary_currency   object  73148      25        6\n",
       "6        salary_in_usd  float64  73150    7703        4\n",
       "7   employee_residence   object  73153      93        1\n",
       "8         remote_ratio  float64  73149       4        5\n",
       "9     company_location   object  73154      86        0\n",
       "10        company_size   object  73148       3        6"
      ]
     },
     "execution_count": 69,
     "metadata": {},
     "output_type": "execute_result"
    }
   ],
   "source": [
    "# DataFrame called 'df'\n",
    "summary_df = variable_summary(df)\n",
    "summary_df"
   ]
  }
 ],
 "metadata": {
  "kernelspec": {
   "display_name": "Python 3 (ipykernel)",
   "language": "python",
   "name": "python3"
  },
  "language_info": {
   "codemirror_mode": {
    "name": "ipython",
    "version": 3
   },
   "file_extension": ".py",
   "mimetype": "text/x-python",
   "name": "python",
   "nbconvert_exporter": "python",
   "pygments_lexer": "ipython3",
   "version": "3.12.7"
  }
 },
 "nbformat": 4,
 "nbformat_minor": 5
}
